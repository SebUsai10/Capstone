{
 "cells": [
  {
   "cell_type": "markdown",
   "metadata": {},
   "source": [
    "This notebook is the Momentum trading strategy for Sebastian Usai's capstone project with WQU.\n",
    "\n",
    "The first half of this notebook presents a simple mometnum trading strategy.\n",
    "\n",
    "The second half works off the output files from the first part of the notebook. These files were edited by hand based on the machine learning directional filter. Any trades taken in the opposite direction of the ML filter were removed from the files."
   ]
  },
  {
   "cell_type": "code",
   "execution_count": 15,
   "metadata": {},
   "outputs": [],
   "source": [
    "### LIBRARIES   ###\n",
    "\n",
    "import datetime as dt\n",
    "import matplotlib.pyplot as plt\n",
    "from matplotlib import style\n",
    "import pandas as pd\n",
    "import pandas_datareader.data as web\n",
    "import matplotlib.dates as mdates\n",
    "style.use ('ggplot')\n",
    "import numpy as np\n",
    "from scipy.stats import skew\n",
    "from scipy.stats import kurtosis\n",
    "import seaborn as sns"
   ]
  },
  {
   "cell_type": "code",
   "execution_count": 16,
   "metadata": {},
   "outputs": [],
   "source": [
    "df = pd.read_csv('EURUSD5.csv', parse_dates = True, index_col=0)\n",
    "df=df.rename(columns = {'1.12349':'Open'})\n",
    "df=df.rename(columns = {'1.12374':'High'})\n",
    "df=df.rename(columns = {'1.12349.1':'Low'})\n",
    "df=df.rename(columns = {'1.12372':'Close'})\n",
    "df=df.rename(columns = {'161':'Volume'})\n",
    "df = df.iloc[40070:-12914]"
   ]
  },
  {
   "cell_type": "code",
   "execution_count": 17,
   "metadata": {},
   "outputs": [
    {
     "name": "stderr",
     "output_type": "stream",
     "text": [
      "C:\\Users\\Seb Usai\\Anaconda3\\lib\\site-packages\\pandas\\core\\indexing.py:190: SettingWithCopyWarning: \n",
      "A value is trying to be set on a copy of a slice from a DataFrame\n",
      "\n",
      "See the caveats in the documentation: http://pandas.pydata.org/pandas-docs/stable/indexing.html#indexing-view-versus-copy\n",
      "  self._setitem_with_indexer(indexer, value)\n"
     ]
    }
   ],
   "source": [
    "#Long only momentum\n",
    "\n",
    "window = 100\n",
    "upper_std = 3 \n",
    "lower_std = 3\n",
    "#Calculate rolling mean and standard deviation using number of days set above\n",
    "rolling_mean = df['Close'].rolling(window).mean()\n",
    "rolling_std = df['Close'].rolling(window).std()\n",
    "#create two new DataFrame columns to hold values of upper and lower Bollinger bands and 200ma for trend\n",
    "df['Rolling Mean'] = rolling_mean\n",
    "df['Bollinger High'] = rolling_mean + (rolling_std * upper_std)\n",
    "df['Bollinger Low'] = rolling_mean - (rolling_std * lower_std)\n",
    "df['MA']=df['Close'].rolling(window=200).mean()\n",
    "df['Market Return'] = np.log(df['Close'] / df['Close'].shift(1))\n",
    "\n",
    "#Average daily return over past 110 days for momentum filter\n",
    "df['R']= (df['Market Return'].rolling(window=100).mean())*100#(our simple momentum indicator)\n",
    "#Volume Confirmation filters\n",
    "df['Volume Mean'] = df['Volume'].rolling(window = 100).mean()\n",
    "df['Volume+'] = df['Volume Mean']*1.5\n",
    "#Create an \"empty\" column as placeholder for our /position signals\n",
    "df['Position'] = None\n",
    "#Fill our newly created position column - we will buy (1) for an upper band break and go to 0 on a lower band break\n",
    "        \n",
    "for row in range(len(df)):\n",
    "   \n",
    "    if (df['Close'].iloc[row] > df['Bollinger High'].iloc[row]) and (df['Volume'].iloc[row]>df['Volume+'].iloc[row]) and (df['Close'].iloc[row-1] < df['Bollinger High'].iloc[row-1]) and(df['R'].iloc[row]>0.002):\n",
    "        df['Position'].iloc[row] = 1    \n",
    "        \n",
    "    if (df['Close'].iloc[row] < df['Bollinger Low'].iloc[row]) :\n",
    "        df['Position'].iloc[row] = 0\n",
    "        \n",
    "\n",
    "#Forward fill our position column to replace the \"None\" values with the correct long/short positions to represent the \"holding\" of our position\n",
    "#forward through time\n",
    "df['Position'].fillna(method='ffill',inplace=True)\n",
    "#Calculate the daily market return and multiply that by the position to determine strategy returns\n",
    "\n",
    "\n",
    "\n",
    "\n",
    "#KPI Metrics for long only\n",
    "\n",
    "df['Strategy Return'] = df['Market Return'] * df['Position'].shift(1)\n",
    "df['Index Return'] = (1 + df['Strategy Return']).cumprod()\n",
    "lookback = 1000\n",
    "\n",
    "# Calculate the max drawdown in the past window days for each day \n",
    "df['rolling_max'] = df['Index Return'].rolling(lookback, min_periods=1).max()\n",
    "df['daily_drawdown'] = df['Index Return']/df['rolling_max'] - 1.0\n",
    "\n",
    "# Calculate the minimum (negative) daily drawdown\n",
    "df['max_daily_drawdown'] = df['daily_drawdown'].rolling(lookback, min_periods=1).min()\n",
    "\n",
    "Regime = df['Position'].rolling(2).apply(lambda x: x[0] != x[-1], raw=True).sum().astype(int)\n",
    "Buy_Orders = Regime/2\n",
    "\n",
    "Average_Hold = (df['Position'].sum())/Buy_Orders\n",
    "\n",
    "Number_of_Hours = len(df.index)\n",
    "\n",
    "Number_of_Days = Number_of_Hours/24\n",
    "\n",
    "Time_in_Market1 = (Average_Hold*Buy_Orders)/Number_of_Hours\n",
    "\n",
    "CAGR = ((df['Strategy Return'].sum())/Number_of_Days)*252\n",
    "\n",
    "ADJCAGR = CAGR/Time_in_Market1\n",
    "#Save trimmed dataframe\n",
    "export_csv = df.to_csv (r'C:\\Users\\Seb Usai\\Anaconda3\\AAA WQU CF\\Capstone\\MomentumLONG.csv', index = True, header=True)"
   ]
  },
  {
   "cell_type": "code",
   "execution_count": 18,
   "metadata": {},
   "outputs": [],
   "source": [
    "df2 = pd.read_csv('EURUSD5.csv', parse_dates = True, index_col=0)\n",
    "df2=df2.rename(columns = {'1.12349':'Open'})\n",
    "df2=df2.rename(columns = {'1.12374':'High'})\n",
    "df2=df2.rename(columns = {'1.12349.1':'Low'})\n",
    "df2=df2.rename(columns = {'1.12372':'Close'})\n",
    "df2=df2.rename(columns = {'161':'Volume'})\n",
    "\n",
    "df2 = df2.iloc[40070:-12914]"
   ]
  },
  {
   "cell_type": "code",
   "execution_count": 19,
   "metadata": {},
   "outputs": [],
   "source": [
    "#Short only momentum\n",
    "\n",
    "window = 100\n",
    "upper_std = 3 #<  edit window(number of days in lookback period) and standard deviations here\n",
    "lower_std = 3\n",
    "#Calculate rolling mean and standard deviation using number of days set above\n",
    "rolling_mean = df2['Close'].rolling(window).mean()\n",
    "rolling_std = df2['Close'].rolling(window).std()\n",
    "#create two new DataFrame columns to hold values of upper and lower Bollinger bands and 200ma for trend\n",
    "df2['Rolling Mean'] = rolling_mean\n",
    "df2['Bollinger High'] = rolling_mean + (rolling_std * upper_std)\n",
    "df2['Bollinger Low'] = rolling_mean - (rolling_std * lower_std)\n",
    "df2['MA']=df2['Close'].rolling(window=200).mean()\n",
    "df2['Market Return'] = np.log(df2['Close'] / df2['Close'].shift(1))\n",
    "\n",
    "df2['R']= (df2['Market Return'].rolling(window=100).mean())*100\n",
    "#Volume Confirmation filters\n",
    "df2['Volume Mean'] = df2['Volume'].rolling(window = 100).mean()\n",
    "df2['Volume+'] = df2['Volume Mean']*1.5\n",
    "#Create an \"empty\" column as placeholder for our /position signals\n",
    "df2['Position'] = None\n",
    "#Fill our newly created position column - we will buy (1) for an upper band break and go to 0 on a lower band break\n",
    "        \n",
    "for row in range(len(df2)):\n",
    "   \n",
    "    if (df2['Close'].iloc[row] < df2['Bollinger Low'].iloc[row]) and (df2['Volume'].iloc[row]>df2['Volume+'].iloc[row]) and (df2['Close'].iloc[row-1] > df2['Bollinger Low'].iloc[row-1])and (df2['R'].iloc[row]<-0.002):\n",
    "        df2['Position'].iloc[row] = -1    \n",
    "        \n",
    "    if (df2['Close'].iloc[row] > df2['Bollinger High'].iloc[row]) :\n",
    "        df2['Position'].iloc[row] = 0\n",
    "        \n",
    "\n",
    "#Forward fill our position column to replace the \"None\" values with the correct long/short positions to represent the \"holding\" of our position\n",
    "#forward through time\n",
    "df2['Position'].fillna(method='ffill',inplace=True)\n",
    "\n",
    "\n",
    "#Short only KPI's\n",
    "\n",
    "\n",
    "#Calculate the daily market return and multiply that by the position to determine strategy returns\n",
    "\n",
    "df2['Strategy Return'] = df2['Market Return'] * df2['Position'].shift(1)\n",
    "\n",
    "\n",
    "#Calculate the dollar returns based on the log%'s so we can calc max DD and CAGR\n",
    "\n",
    "df2['Index Return'] = (1 + df2['Strategy Return']).cumprod()\n",
    "\n",
    "# Define a trailing 252 trading day window\n",
    "lookback = 1000\n",
    "\n",
    "# Calculate the max drawdown in the past window days for each day \n",
    "df2['rolling_max'] = df2['Index Return'].rolling(lookback, min_periods=1).max()\n",
    "df2['daily_drawdown'] = df2['Index Return']/df2['rolling_max'] - 1.0\n",
    "\n",
    "# Calculate the minimum (negative) daily drawdown\n",
    "df2['max_daily_drawdown'] = df2['daily_drawdown'].rolling(lookback, min_periods=1).min()\n",
    "\n",
    "Regime = df2['Position'].rolling(2).apply(lambda x: x[0] != x[-1], raw=True).sum().astype(int)\n",
    "Buy_Orders = Regime/2\n",
    "\n",
    "Average_Hold = ((df2['Position'].sum())/Buy_Orders)*-1\n",
    "\n",
    "Number_of_Hours = len(df2.index)\n",
    "\n",
    "Number_of_Days = Number_of_Hours/24\n",
    "\n",
    "Time_in_Market2 = (Average_Hold*Buy_Orders)/Number_of_Hours\n",
    "\n",
    "CAGR = ((df2['Strategy Return'].sum())/Number_of_Days)*252\n",
    "\n",
    "ADJCAGR = CAGR/Time_in_Market2\n",
    "\n",
    "Return = df['Strategy Return'].sum()\n",
    "\n",
    "#Save trimmed dataframe\n",
    "export_csv = df2.to_csv (r'C:\\Users\\Seb Usai\\Anaconda3\\AAA WQU CF\\Capstone\\MomentumSHORT.csv', index = True, header=True)"
   ]
  },
  {
   "cell_type": "code",
   "execution_count": 20,
   "metadata": {},
   "outputs": [],
   "source": [
    "#Now combine\n",
    "\n",
    "#Now combine to get results\n",
    "combined_return = (df['Strategy Return'] + df2['Strategy Return'])-((0.0001*11)/len(df))#trading costs(average cost by number of trades by number 0f periods)\n",
    "df['Combined Return'] = combined_return\n",
    "df['Combined Cumulative'] = (1 + df['Combined Return']).cumprod()"
   ]
  },
  {
   "cell_type": "code",
   "execution_count": 21,
   "metadata": {},
   "outputs": [
    {
     "name": "stdout",
     "output_type": "stream",
     "text": [
      "Total Return = 0.006934223005922683\n",
      "PORTFOLIO CAGR= 0.0416053380355361\n",
      "Max Portfolio DD =  -0.011540865014385115\n",
      "TIME IN MARKET ADJUSTED CAGR= 0.10045983450501733\n",
      "Percent of time in market= 0.41414898044111526\n"
     ]
    },
    {
     "data": {
      "text/plain": [
       "<matplotlib.legend.Legend at 0x1ce686f7630>"
      ]
     },
     "execution_count": 21,
     "metadata": {},
     "output_type": "execute_result"
    },
    {
     "data": {
      "image/png": "[encoded data removed]",
      "text/plain": [
       "<Figure size 432x288 with 1 Axes>"
      ]
     },
     "metadata": {},
     "output_type": "display_data"
    }
   ],
   "source": [
    "Return = df['Combined Return'].sum()\n",
    "CAGR = Return*6\n",
    "lookback = 10000\n",
    "df['rolling_maximum_combined'] = df['Combined Cumulative'].rolling(lookback, min_periods=1).max()\n",
    "df['daily_drawdowns'] = df['Combined Cumulative']/df['rolling_maximum_combined'] - 1.0\n",
    "df['max_daily_drawdown'] = df['daily_drawdowns'].rolling(lookback, min_periods=1).min()\n",
    "Time_in_Market_Total = (Time_in_Market1+Time_in_Market2)\n",
    "ADJCAGR = CAGR/Time_in_Market_Total\n",
    "\n",
    "\n",
    "#### PRINT & PLOT   ###\n",
    "\n",
    "print(\"Total Return =\",Return)\n",
    "print(\"PORTFOLIO CAGR=\", CAGR)\n",
    "print(\"Max Portfolio DD = \", df['max_daily_drawdown'].min())\n",
    "print(\"TIME IN MARKET ADJUSTED CAGR=\", ADJCAGR)\n",
    "print(\"Percent of time in market=\", Time_in_Market_Total)\n",
    "\n",
    "df['Combined Return'].cumsum().plot()\n",
    "plt.title(\"Intraday Momentum Returns\")\n",
    "plt.xlabel(\"Date\")\n",
    "plt.ylabel(\"Returns\")\n",
    "plt.legend()"
   ]
  },
  {
   "cell_type": "code",
   "execution_count": 22,
   "metadata": {},
   "outputs": [
    {
     "name": "stdout",
     "output_type": "stream",
     "text": [
      "Volatility =  0.03673777066861281\n",
      "Sharpe Ratio =  1.2037485367823655\n",
      "Skew -0.5353494864881871\n",
      "Kurtosis 30.230802727704983\n"
     ]
    }
   ],
   "source": [
    "#Calculate Volatility\n",
    "volatility = df['Combined Return'].std()\n",
    "Annualised_Vol = volatility*((288*252)**0.5)\n",
    "print(\"Volatility = \",Annualised_Vol)\n",
    "\n",
    "#Sharpe Ratio\n",
    "dailysharpe = df['Combined Return'].mean()/df['Combined Return'].std()# Sharpe Ratio\n",
    "SharpeRatio = dailysharpe*((288*252)**0.5)#Annualized Sharpe (288 5minute periods per day daily sharpe by square root of number of trading days per year)\n",
    "print(\"Sharpe Ratio = \", SharpeRatio)\n",
    "\n",
    "skew1 = skew(df['Combined Return'].dropna())\n",
    "print(\"Skew\",skew1)\n",
    "\n",
    "kurtosis1 = kurtosis(df['Combined Return'].dropna())\n",
    "print(\"Kurtosis\", kurtosis1)\n"
   ]
  },
  {
   "cell_type": "code",
   "execution_count": 23,
   "metadata": {},
   "outputs": [
    {
     "data": {
      "text/plain": [
       "<matplotlib.axes._subplots.AxesSubplot at 0x1ce68748f60>"
      ]
     },
     "execution_count": 23,
     "metadata": {},
     "output_type": "execute_result"
    },
    {
     "data": {
      "image/png": "[encoded data removed]",
      "text/plain": [
       "<Figure size 720x432 with 1 Axes>"
      ]
     },
     "metadata": {},
     "output_type": "display_data"
    }
   ],
   "source": [
    "import seaborn as sns\n",
    "returns = np.log(df['Combined Cumulative']).diff().dropna()\n",
    "standard_return = (returns-returns.mean())/returns.std()\n",
    "\n",
    "plt.figure(figsize=(10,6))\n",
    "sns.kdeplot(standard_return, label=\"Intraday Momentum Return\", bw=0.30, color='darkred')\n",
    "sns.kdeplot(np.random.normal(size=len(df)), label=\"Normal Distribution\", color = 'blue')"
   ]
  },
  {
   "cell_type": "code",
   "execution_count": 145,
   "metadata": {},
   "outputs": [
    {
     "name": "stdout",
     "output_type": "stream",
     "text": [
      "VAR at 95% confidence level =  -0.003097623474697507\n",
      "VAR at 99% confidence level =  -0.0073767328879997774\n",
      "VAR at 99.9% confidence level =  -0.017240875924517406\n"
     ]
    }
   ],
   "source": [
    "#VAR\n",
    "df.sort_values('Combined Return',inplace=True, ascending=True)\n",
    "VAR_95=df['Combined Return'].quantile(0.05)*(288**0.5)\n",
    "VAR_99=df['Combined Return'].quantile(0.01)*(288**0.5)\n",
    "VAR_999=df['Combined Return'].quantile(0.001)*(288**0.5)\n",
    "\n",
    "print(\"VAR at 95% confidence level = \", VAR_95)\n",
    "print(\"VAR at 99% confidence level = \", VAR_99)\n",
    "print(\"VAR at 99.9% confidence level = \", VAR_999)"
   ]
  },
  {
   "cell_type": "markdown",
   "metadata": {},
   "source": [
    "PART 2\n",
    "\n",
    "Now that we have examined the strategy without a filter we will hand edit our long and short .csv files from above to only trade in the direction of the machine learning filter. We will import the edited files and and check the metrics in comparison to the strategy alone.\n",
    "\n",
    "You can recreate this by first running the Capstone Machine Learning IPYNB, taking the machine learning prediction output into CapstoneML.csv and removing the counter prediction direction trades by changing the position column to 0 in the MomentumSHORT and MomentumLONG files before renaming and importing below as df3 and df4."
   ]
  },
  {
   "cell_type": "code",
   "execution_count": 2,
   "metadata": {},
   "outputs": [],
   "source": [
    "#we will now combine our long and short edited files\n",
    "\n",
    "df3 = pd.read_csv('MomentumLONG1.csv', parse_dates = True, index_col=0)\n",
    "df4 = pd.read_csv('MomentumSHORT1.csv', parse_dates = True, index_col=0)\n"
   ]
  },
  {
   "cell_type": "code",
   "execution_count": 6,
   "metadata": {},
   "outputs": [],
   "source": [
    "#Before combining we need to calculate a couple of metircs regarding time in market\n",
    "\n",
    "Regime3 = df3['Position'].rolling(2).apply(lambda x: x[0] != x[-1], raw=True).sum().astype(int)\n",
    "Buy_Orders3 = Regime3/2\n",
    "Average_Hold3 = ((df3['Position'].sum())/Buy_Orders3)*1\n",
    "Number_of_periods3 = len(df3.index)\n",
    "Time_in_Market3 = (Average_Hold3*Buy_Orders3)/Number_of_periods3\n",
    "\n",
    "\n",
    "Regime2 = df4['Position'].rolling(2).apply(lambda x: x[0] != x[-1], raw=True).sum().astype(int)\n",
    "Buy_Orders2 = Regime2/2\n",
    "Average_Hold2 = ((df4['Position'].sum())/Buy_Orders2)*-1\n",
    "Number_of_periods2 = len(df4.index)\n",
    "Time_in_Market4 = (Average_Hold2*Buy_Orders2)/Number_of_periods2\n"
   ]
  },
  {
   "cell_type": "code",
   "execution_count": 9,
   "metadata": {},
   "outputs": [],
   "source": [
    "### Now combine\n",
    "\n",
    "#Now combine and subtract trading costs to get results\n",
    "combined_return = (df3['Strategy Return'] + df4['Strategy Return'])-((0.0001*7)/len(df3))#trading costs/length of the index to roughly add in the costs\n",
    "df3['Combined Return'] = combined_return\n",
    "df3['Combined Cumulative'] = (1 + df3['Combined Return']).cumprod()"
   ]
  },
  {
   "cell_type": "code",
   "execution_count": 10,
   "metadata": {},
   "outputs": [
    {
     "name": "stdout",
     "output_type": "stream",
     "text": [
      "Total Return = 0.0166355644223887\n",
      "PORTFOLIO CAGR= 0.0998133865343322\n",
      "Max Portfolio DD =  -0.00867322824335004\n",
      "TIME IN MARKET ADJUSTED CAGR= 0.27474406396563605\n",
      "Percent of time in market= 0.36329588014981273\n"
     ]
    },
    {
     "data": {
      "text/plain": [
       "<matplotlib.legend.Legend at 0x1ce6856a978>"
      ]
     },
     "execution_count": 10,
     "metadata": {},
     "output_type": "execute_result"
    },
    {
     "data": {
      "image/png": "[encoded data removed]",
      "text/plain": [
       "<Figure size 432x288 with 1 Axes>"
      ]
     },
     "metadata": {
      "needs_background": "light"
     },
     "output_type": "display_data"
    }
   ],
   "source": [
    "#Strategy Performance Metircs\n",
    "\n",
    "Return = df3['Combined Return'].sum()\n",
    "CAGR = Return*6\n",
    "lookback = 10000\n",
    "df3['rolling_maximum_combined'] = df3['Combined Cumulative'].rolling(lookback, min_periods=1).max()\n",
    "df3['daily_drawdowns'] = df3['Combined Cumulative']/df3['rolling_maximum_combined'] - 1.0\n",
    "df3['max_daily_drawdown'] = df3['daily_drawdowns'].rolling(lookback, min_periods=1).min()\n",
    "Total_Time = (Time_in_Market3+Time_in_Market4)\n",
    "ADJCAGR = CAGR/Total_Time\n",
    "\n",
    "\n",
    "#### PRINT & PLOT   ###\n",
    "\n",
    "print(\"Total Return =\",Return)\n",
    "print(\"PORTFOLIO CAGR=\", CAGR)\n",
    "print(\"Max Portfolio DD = \", df3['max_daily_drawdown'].min())\n",
    "print(\"TIME IN MARKET ADJUSTED CAGR=\", ADJCAGR)\n",
    "print(\"Percent of time in market=\", Total_Time)\n",
    "\n",
    "df3['Combined Return'].cumsum().plot()\n",
    "plt.title(\"Intraday Momentum with Machine Learning Returns\")\n",
    "plt.xlabel(\"Date\")\n",
    "plt.ylabel(\"Returns\")\n",
    "plt.legend()\n",
    "\n"
   ]
  },
  {
   "cell_type": "code",
   "execution_count": 11,
   "metadata": {},
   "outputs": [
    {
     "name": "stdout",
     "output_type": "stream",
     "text": [
      "Volatility =  0.035343665851487606\n",
      "Sharpe Ratio =  3.001765171751571\n",
      "Skew -0.45453745125956035\n",
      "Kurtosis 34.2746817282249\n"
     ]
    }
   ],
   "source": [
    "#Calculate Volatility\n",
    "volatility = df3['Combined Return'].std()\n",
    "Annualised_Vol = volatility*((288*252)**0.5)\n",
    "print(\"Volatility = \",Annualised_Vol)\n",
    "\n",
    "#Sharpe Ratio\n",
    "dailysharpe = df3['Combined Return'].mean()/df3['Combined Return'].std()# Sharpe Ratio\n",
    "SharpeRatio = dailysharpe*((288*252)**0.5)#Annualized Sharpe (288 5minute periods per day daily sharpe by square root of number of trading days per year)\n",
    "print(\"Sharpe Ratio = \", SharpeRatio)\n",
    "\n",
    "skew2 = skew(df3['Combined Return'].dropna())\n",
    "print(\"Skew\",skew2)\n",
    "\n",
    "kurtosis2 = kurtosis(df3['Combined Return'].dropna())\n",
    "print(\"Kurtosis\", kurtosis2)"
   ]
  },
  {
   "cell_type": "code",
   "execution_count": 14,
   "metadata": {},
   "outputs": [
    {
     "data": {
      "text/plain": [
       "<matplotlib.axes._subplots.AxesSubplot at 0x1ce68853f28>"
      ]
     },
     "execution_count": 14,
     "metadata": {},
     "output_type": "execute_result"
    },
    {
     "data": {
      "image/png": "[encoded data removed]",
      "text/plain": [
       "<Figure size 720x432 with 1 Axes>"
      ]
     },
     "metadata": {
      "needs_background": "light"
     },
     "output_type": "display_data"
    }
   ],
   "source": [
    "returns = np.log(df3['Combined Cumulative']).diff().dropna()\n",
    "standard_return = (returns-returns.mean())/returns.std()\n",
    "\n",
    "plt.figure(figsize=(10,6))\n",
    "sns.kdeplot(standard_return, label=\"Momentum with Machine Learning Filter KDE\", bw=0.30, color='darkred')\n",
    "sns.kdeplot(np.random.normal(size=len(df3)), label=\"Normal Distribution\", color = 'blue')"
   ]
  },
  {
   "cell_type": "code",
   "execution_count": 153,
   "metadata": {},
   "outputs": [
    {
     "name": "stdout",
     "output_type": "stream",
     "text": [
      "VAR at 95% confidence level =  -0.002894253287541968\n",
      "VAR at 99% confidence level =  -0.007066241788415537\n",
      "VAR at 99.9% confidence level =  -0.016843777668355046\n"
     ]
    }
   ],
   "source": [
    "#VAR\n",
    "df3.sort_values('Combined Return',inplace=True, ascending=True)\n",
    "VAR_951=df3['Combined Return'].quantile(0.05)*(288**0.5)\n",
    "VAR_991=df3['Combined Return'].quantile(0.01)*(288**0.5)\n",
    "VAR_9991=df3['Combined Return'].quantile(0.001)*(288**0.5)\n",
    "\n",
    "print(\"VAR at 95% confidence level = \", VAR_951)\n",
    "print(\"VAR at 99% confidence level = \", VAR_991)\n",
    "print(\"VAR at 99.9% confidence level = \", VAR_9991)"
   ]
  },
  {
   "cell_type": "code",
   "execution_count": null,
   "metadata": {},
   "outputs": [],
   "source": []
  },
  {
   "cell_type": "code",
   "execution_count": null,
   "metadata": {},
   "outputs": [],
   "source": []
  }
 ],
 "metadata": {
  "kernelspec": {
   "display_name": "Python 3",
   "language": "python",
   "name": "python3"
  },
  "language_info": {
   "codemirror_mode": {
    "name": "ipython",
    "version": 3
   },
   "file_extension": ".py",
   "mimetype": "text/x-python",
   "name": "python",
   "nbconvert_exporter": "python",
   "pygments_lexer": "ipython3",
   "version": "3.7.3"
  }
 },
 "nbformat": 4,
 "nbformat_minor": 2
}
